{
 "cells": [
  {
   "cell_type": "markdown",
   "metadata": {},
   "source": [
    "#  Documentation for \"Documenting nature: recreating published data\""
   ]
  },
  {
   "cell_type": "markdown",
   "metadata": {},
   "source": [
    "Authors: "
   ]
  },
  {
   "cell_type": "markdown",
   "metadata": {},
   "source": [
    "**Objective:** Recreate results from Leininger et al. 2014, titled, \"Developmental gene expression provides clues to relationships between sponge and eumetazoan body plans.\" "
   ]
  },
  {
   "cell_type": "markdown",
   "metadata": {},
   "source": [
    "# Data storage: "
   ]
  },
  {
   "cell_type": "markdown",
   "metadata": {},
   "source": [
    "**_All files and data are housed on github when able. <br> Visit https://github.com/aweeger/BCB546X_FinalGroup.git. <br> </font> For questions please email main author, Axelle Weeger at: aweeger@iastate.edu._**"
   ]
  },
  {
   "cell_type": "markdown",
   "metadata": {},
   "source": [
    "# Downloading the data:"
   ]
  },
  {
   "cell_type": "markdown",
   "metadata": {},
   "source": [
    "###  Download DNA sequences:"
   ]
  },
  {
   "cell_type": "markdown",
   "metadata": {},
   "source": [
    "Navigate to : http://www.ebi.ac.uk/ena/data/view/HG973349-HG973421"
   ]
  },
  {
   "cell_type": "markdown",
   "metadata": {},
   "source": [
    "Download single file of DNA sequences generated from this study, deposited at the European Nucleotide Archive under the accession codes __HG973349__ to __973421__. <br> Save file to GitHub.\n"
   ]
  },
  {
   "cell_type": "markdown",
   "metadata": {},
   "source": [
    "**Data description:** _.fasta_ file, containing 73 developmental gene sequences from _Sycon ciliatum_."
   ]
  },
  {
   "cell_type": "markdown",
   "metadata": {},
   "source": [
    "### Download the RNA sequences:"
   ]
  },
  {
   "cell_type": "markdown",
   "metadata": {},
   "source": [
    "Navigate to: www.ebi.ac.uk/arrayexpress."
   ]
  },
  {
   "cell_type": "markdown",
   "metadata": {},
   "source": [
    "Download the RNA-seq data, deposited in the ArrayExpress database under accession codes __E-MTAB-2430__ and __E-MTAB-2431__. <br> Save file to GitHub."
   ]
  },
  {
   "cell_type": "markdown",
   "metadata": {},
   "source": [
    "**Data description**: Sequences are housed in two folders (**_E-MTAB-2430_**: localization in the adult form and **_E-MTAB-2431_**: at different developmental stages), containing RNA expression for above identified developmental genes. <br> Each folder contains 2 technical replicates, and is used for differential expression analysis of each gene. "
   ]
  },
  {
   "cell_type": "markdown",
   "metadata": {},
   "source": [
    "_Note: Ensure proper amount of storage for files as they are large files. Files average 3GB for the 22 files in E-MTAB-2430, and average 3.5GB for the 44 files in E-MTAB-2431._ \n",
    "\n",
    "For this analysis, files were stored in the /ptmp folder of the remote computer \"hpc-class\" and accessed by group members as needed. "
   ]
  },
  {
   "cell_type": "markdown",
   "metadata": {},
   "source": [
    "**Obtaining RNA sequence files**:"
   ]
  },
  {
   "cell_type": "markdown",
   "metadata": {},
   "source": [
    "A.W. wrote script to batch download _.fastq_ files: <br> _2430_fieldnld.sh_ for E-MTAB-2430, and _2431_fieldnld.sh_ for E-MTAB-2431."
   ]
  },
  {
   "cell_type": "markdown",
   "metadata": {},
   "source": [
    " Download the summary files for both _E-MTAB-2430_ and _E-MTAB-2431_ available through the array express link. "
   ]
  },
  {
   "cell_type": "markdown",
   "metadata": {},
   "source": [
    " First, the column with the hyperlink texts was extracted. "
   ]
  },
  {
   "cell_type": "markdown",
   "metadata": {},
   "source": [
    "This column was then used as a base, where the _wget_ command was then utilized to go to each corresponding link and download the files into their designated folders. "
   ]
  },
  {
   "cell_type": "markdown",
   "metadata": {},
   "source": [
    "# Data Preperation: "
   ]
  },
  {
   "cell_type": "markdown",
   "metadata": {},
   "source": [
    "Align with Clustal (browser GUI, accessed 12/2019) to ensure sequences are the same length. <br>\n",
    "Obtain _.aln_ from clustal <br>\n",
    "Save _.aln_ file. "
   ]
  },
  {
   "cell_type": "markdown",
   "metadata": {},
   "source": [
    "Run aligned file ( _.aln_ ) using ALTER (browser GUI, accessed 12/2019) to convert to nexus format ( _.nex_ ) <br>\n",
    "Save _.nex_ file. "
   ]
  },
  {
   "cell_type": "markdown",
   "metadata": {},
   "source": [
    "Use ProTest 3.4.2 package, (https://github.com/ddarriba/prottest3/releases) to obtain model parameters for MrBayes analysis. <br> \n",
    "_Note: ProTest 3.4.2 was installed on local computer of A.A._ <br>\n",
    "1. Open software. <br> \n",
    "2. Load _.nex_ alignment. <br>\n",
    "3. Run maximum likelihood scores, selecting for the LG model as this was denoted in the original paper.\n",
    "4. Compute. _note: compute time ~ 10 minutes_"
   ]
  },
  {
   "cell_type": "markdown",
   "metadata": {},
   "source": [
    "**Results**: LG models, 143 parameters (0 + 143 branch length estimates), lnL = 211196.10"
   ]
  },
  {
   "cell_type": "markdown",
   "metadata": {},
   "source": [
    "# Phylogenetic Tree Generation:"
   ]
  },
  {
   "cell_type": "markdown",
   "metadata": {},
   "source": [
    "Downloaded **MrBayes v.3.2.7**  package (used on a local computer of a group member)."
   ]
  },
  {
   "cell_type": "markdown",
   "metadata": {},
   "source": [
    "_Note: Ensure aligned .nex file is located in same folder as MrBayes to ensure file is located without relative path information._"
   ]
  },
  {
   "cell_type": "code",
   "execution_count": null,
   "metadata": {},
   "outputs": [],
   "source": [
    "Load mrbayes "
   ]
  },
  {
   "cell_type": "code",
   "execution_count": 2,
   "metadata": {},
   "outputs": [
    {
     "ename": "SyntaxError",
     "evalue": "invalid syntax (<ipython-input-2-50ba8c46940c>, line 1)",
     "output_type": "error",
     "traceback": [
      "\u001b[1;36m  File \u001b[1;32m\"<ipython-input-2-50ba8c46940c>\"\u001b[1;36m, line \u001b[1;32m1\u001b[0m\n\u001b[1;33m    execute Sponge_Mrbayes.nex\u001b[0m\n\u001b[1;37m                         ^\u001b[0m\n\u001b[1;31mSyntaxError\u001b[0m\u001b[1;31m:\u001b[0m invalid syntax\n"
     ]
    }
   ],
   "source": [
    "execute Sponge_Mrbayes.nex"
   ]
  },
  {
   "cell_type": "code",
   "execution_count": null,
   "metadata": {},
   "outputs": [],
   "source": [
    "prset aamodel =[fixed(LG)] #change model to LG based on ProTest results"
   ]
  },
  {
   "cell_type": "code",
   "execution_count": null,
   "metadata": {},
   "outputs": [],
   "source": [
    "prset #verify model change"
   ]
  },
  {
   "cell_type": "code",
   "execution_count": null,
   "metadata": {},
   "outputs": [],
   "source": [
    "log start _Sponge_Mrbayes.txt_ # start log file "
   ]
  },
  {
   "cell_type": "markdown",
   "metadata": {},
   "source": [
    "<font color = red> save file:"
   ]
  },
  {
   "cell_type": "markdown",
   "metadata": {},
   "source": [
    "<font color = red> open file in tracer:"
   ]
  },
  {
   "cell_type": "markdown",
   "metadata": {},
   "source": [
    "<font color = red> open file in **FigTree v.1.4.4** (used on a local computer of a group member)"
   ]
  },
  {
   "cell_type": "markdown",
   "metadata": {},
   "source": [
    "<font color = red> edit and save image (.ext)"
   ]
  },
  {
   "cell_type": "markdown",
   "metadata": {},
   "source": [
    "# RNA seq analysis:"
   ]
  },
  {
   "cell_type": "markdown",
   "metadata": {},
   "source": [
    "To run RSEM to generate count data for the heatmap, navigate to your cluster with the appropriate .fasta and .fastq files, and run the following commands in the UNIX terminal. These commands are located in the RSEM.md file in this repository's parent directory."
   ]
  },
  {
   "cell_type": "markdown",
   "metadata": {},
   "source": [
    "<font color = red> **Please list any addition programs used to viz the data**"
   ]
  },
  {
   "cell_type": "markdown",
   "metadata": {},
   "source": [
    "<font color = red>  please include any instructions or code written for this task as well."
   ]
  },
  {
   "cell_type": "markdown",
   "metadata": {},
   "source": [
    "The read counts results for average of replications are storaged in **_counts_** folder. And the read counts results for each replication are storaged in **_individual_** folder."
   ]
  },
  {
   "cell_type": "markdown",
   "metadata": {},
   "source": [
    "# Gene expression analysis and heatmap:"
   ]
  },
  {
   "cell_type": "markdown",
   "metadata": {},
   "source": [
    "The entire work flow and codes are stored in **_RNAseq_GeneExpression/final.Rmd_**. The folder **_RNAseq_GeneExpression_** also includes metadata (**_genes.csv_**: list of gene names and their sequence ID, and **_samples_**: list of read counts result file names and their developmental stages), results of significantly differential expressed gene in apical region (**_DEG top_bottom.csv_**: DE genes between the top and bottom part. And **_DEG top_middle.csv_**: DE genes between the top and middle part. ), and heatmap (**_heatmap.jpg_**)."
   ]
  },
  {
   "cell_type": "markdown",
   "metadata": {},
   "source": []
  }
 ],
 "metadata": {
  "kernelspec": {
   "display_name": "Python 3",
   "language": "python",
   "name": "python3"
  },
  "language_info": {
   "codemirror_mode": {
    "name": "ipython",
    "version": 3
   },
   "file_extension": ".py",
   "mimetype": "text/x-python",
   "name": "python",
   "nbconvert_exporter": "python",
   "pygments_lexer": "ipython3",
   "version": "3.7.5"
  }
 },
 "nbformat": 4,
 "nbformat_minor": 2
}
